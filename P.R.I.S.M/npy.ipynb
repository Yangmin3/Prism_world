{
 "cells": [
  {
   "cell_type": "code",
   "execution_count": 1,
   "id": "1158161b",
   "metadata": {},
   "outputs": [
    {
     "name": "stdout",
     "output_type": "stream",
     "text": [
      "CSV 불러오는 중\n",
      "CLIP 모델 로드 중\n",
      "임베딩 생성 시작\n"
     ]
    },
    {
     "name": "stderr",
     "output_type": "stream",
     "text": [
      "임베딩 생성 중: 100%|██████████| 1023/1023 [09:33<00:00,  1.78it/s] "
     ]
    },
    {
     "name": "stdout",
     "output_type": "stream",
     "text": [
      "'embeddings.npy' 저장 중\n",
      "완료\n"
     ]
    },
    {
     "name": "stderr",
     "output_type": "stream",
     "text": [
      "\n"
     ]
    }
   ],
   "source": [
    "# prepare_embeddings.py\n",
    "import pandas as pd\n",
    "import numpy as np\n",
    "import torch\n",
    "import clip\n",
    "from PIL import Image\n",
    "import requests\n",
    "from io import BytesIO\n",
    "from tqdm import tqdm\n",
    "\n",
    "# 설정\n",
    "DEVICE = \"cuda\" if torch.cuda.is_available() else \"cpu\"\n",
    "CSV_FILE = \"pokemon_data_master.csv\"\n",
    "EMBEDDINGS_FILE = \"embeddings.npy\"\n",
    "\n",
    "def load_clip_model():\n",
    "    model, preprocess = clip.load(\"ViT-B/32\", device=DEVICE)\n",
    "    return model, preprocess\n",
    "\n",
    "def create_clip_embeddings(df, model, preprocess):\n",
    "    embeddings = []\n",
    "    for _, row in tqdm(df.iterrows(), total=len(df), desc=\"임베딩 생성 중\"):\n",
    "        try:\n",
    "            response = requests.get(row['image_url'])\n",
    "            if response.status_code == 200:\n",
    "                image = Image.open(BytesIO(response.content)).convert(\"RGB\")\n",
    "                image_input = preprocess(image).unsqueeze(0).to(DEVICE)\n",
    "\n",
    "                with torch.no_grad():\n",
    "                    embedding = model.encode_image(image_input)\n",
    "                embedding /= embedding.norm(dim=-1, keepdim=True)  # 정규화\n",
    "                embeddings.append(embedding.cpu().numpy())\n",
    "            else:\n",
    "                embeddings.append(np.zeros((1, 512)))\n",
    "        except Exception as e:\n",
    "            print(f\"{row['name_kor']} 임베딩 생성 실패: {e}\")\n",
    "            embeddings.append(np.zeros((1, 512)))\n",
    "\n",
    "    embeddings = np.vstack(embeddings)\n",
    "    return embeddings\n",
    "\n",
    "if __name__ == \"__main__\":\n",
    "    print(\"CSV 불러오는 중\")\n",
    "    df = pd.read_csv(CSV_FILE)\n",
    "\n",
    "    print(\"CLIP 모델 로드 중\")\n",
    "    model, preprocess = load_clip_model()\n",
    "\n",
    "    print(\"임베딩 생성 시작\")\n",
    "    embeddings = create_clip_embeddings(df, model, preprocess)\n",
    "\n",
    "    print(f\"'{EMBEDDINGS_FILE}' 저장 중\")\n",
    "    np.save(EMBEDDINGS_FILE, embeddings)\n",
    "\n",
    "    print(\"완료\")\n"
   ]
  }
 ],
 "metadata": {
  "kernelspec": {
   "display_name": "llm_env",
   "language": "python",
   "name": "python3"
  },
  "language_info": {
   "codemirror_mode": {
    "name": "ipython",
    "version": 3
   },
   "file_extension": ".py",
   "mimetype": "text/x-python",
   "name": "python",
   "nbconvert_exporter": "python",
   "pygments_lexer": "ipython3",
   "version": "3.12.11"
  }
 },
 "nbformat": 4,
 "nbformat_minor": 5
}
